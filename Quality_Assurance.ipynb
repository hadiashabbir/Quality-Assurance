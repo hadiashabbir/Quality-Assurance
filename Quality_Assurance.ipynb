{
  "cells": [
    {
      "cell_type": "code",
      "execution_count": 1,
      "metadata": {
        "id": "WE2gLBjDaGyp"
      },
      "outputs": [],
      "source": [
        "import tensorflow as tf\n",
        "from tensorflow.keras.preprocessing.image import ImageDataGenerator"
      ]
    },
    {
      "cell_type": "code",
      "execution_count": 2,
      "metadata": {
        "colab": {
          "base_uri": "https://localhost:8080/"
        },
        "id": "7tkXYOz8j084",
        "outputId": "ad78108d-5982-438b-dbe0-65ad25537caf"
      },
      "outputs": [
        {
          "output_type": "stream",
          "name": "stdout",
          "text": [
            "Mounted at /content/drive\n"
          ]
        }
      ],
      "source": [
        "from google.colab import drive\n",
        "\n",
        "drive.mount('/content/drive')"
      ]
    },
    {
      "cell_type": "code",
      "execution_count": 3,
      "metadata": {
        "id": "N3vWsh1ZtL1c"
      },
      "outputs": [],
      "source": [
        "path = '/content/drive/MyDrive/Colab Notebooks/Quality Assurance Dataset/Train'"
      ]
    },
    {
      "cell_type": "code",
      "execution_count": 4,
      "metadata": {
        "colab": {
          "base_uri": "https://localhost:8080/"
        },
        "id": "PXuFOqE2jaxG",
        "outputId": "d22fc92d-0027-4794-cf14-0f2ca8b7c6ab"
      },
      "outputs": [
        {
          "output_type": "stream",
          "name": "stdout",
          "text": [
            "Found 1128 images belonging to 4 classes.\n"
          ]
        }
      ],
      "source": [
        "train_datagen = ImageDataGenerator( rescale =1./255, zoom_range = 0.2, horizontal_flip = True)\n",
        "training_set = train_datagen.flow_from_directory(path,target_size = (64, 64), color_mode='grayscale',\n",
        "batch_size = 32,class_mode = 'categorical')\n"
      ]
    },
    {
      "cell_type": "code",
      "execution_count": 5,
      "metadata": {
        "id": "0YIGxopeUbE1"
      },
      "outputs": [],
      "source": [
        "path = '/content/drive/MyDrive/Colab Notebooks/Quality Assurance Dataset/Test'"
      ]
    },
    {
      "cell_type": "code",
      "execution_count": 6,
      "metadata": {
        "colab": {
          "base_uri": "https://localhost:8080/"
        },
        "id": "8djh8uTAPVyN",
        "outputId": "85aacc87-85a8-46f6-cfac-d24baa104555"
      },
      "outputs": [
        {
          "output_type": "stream",
          "name": "stdout",
          "text": [
            "Found 480 images belonging to 4 classes.\n"
          ]
        }
      ],
      "source": [
        "test_datagen = ImageDataGenerator(rescale = 1./255)\n",
        "test_set = test_datagen.flow_from_directory(path,target_size = (64, 64),color_mode='grayscale',\n",
        "batch_size = 32, class_mode = 'categorical')"
      ]
    },
    {
      "cell_type": "code",
      "execution_count": 7,
      "metadata": {
        "id": "oLGXoytvuI1d"
      },
      "outputs": [],
      "source": [
        "cnn = tf.keras.models.Sequential()"
      ]
    },
    {
      "cell_type": "code",
      "execution_count": 8,
      "metadata": {
        "id": "cRUGkuYjOutQ"
      },
      "outputs": [],
      "source": [
        "cnn.add(tf.keras.layers.Conv2D(filters=5, kernel_size=3, activation='relu', input_shape=[64, 64, 1]))"
      ]
    },
    {
      "cell_type": "code",
      "execution_count": 9,
      "metadata": {
        "id": "owIZztshO0Uo"
      },
      "outputs": [],
      "source": [
        "cnn.add(tf.keras.layers.MaxPool2D(pool_size=2, strides=2))"
      ]
    },
    {
      "cell_type": "code",
      "execution_count": 10,
      "metadata": {
        "id": "_qjsZkyoO-sl"
      },
      "outputs": [],
      "source": [
        "cnn.add(tf.keras.layers.Conv2D(filters=32, kernel_size=3, activation='relu'))\n",
        "cnn.add(tf.keras.layers.MaxPool2D(pool_size=2, strides=2))"
      ]
    },
    {
      "cell_type": "code",
      "execution_count": 11,
      "metadata": {
        "id": "d-93QJTEZoVR"
      },
      "outputs": [],
      "source": [
        "cnn.add(tf.keras.layers.Flatten())"
      ]
    },
    {
      "cell_type": "code",
      "execution_count": 12,
      "metadata": {
        "id": "uD2S4B0yPD2D"
      },
      "outputs": [],
      "source": [
        "cnn.add(tf.keras.layers.Dense(units=128, activation='relu'))"
      ]
    },
    {
      "cell_type": "code",
      "execution_count": 13,
      "metadata": {
        "id": "QhGUxrzrPGtp"
      },
      "outputs": [],
      "source": [
        "cnn.add(tf.keras.layers.Dense(units=1, activation='relu'))"
      ]
    },
    {
      "cell_type": "code",
      "execution_count": 14,
      "metadata": {
        "id": "bVXvMaX1PI6N"
      },
      "outputs": [],
      "source": [
        "cnn.compile(optimizer = 'adam', loss = 'binary_crossentropy', metrics = ['accuracy'])"
      ]
    },
    {
      "cell_type": "code",
      "execution_count": 15,
      "metadata": {
        "colab": {
          "base_uri": "https://localhost:8080/"
        },
        "id": "sU9SJmStPNGS",
        "outputId": "fa878002-5d5b-4a2c-945f-751a9ec26c97"
      },
      "outputs": [
        {
          "output_type": "stream",
          "name": "stdout",
          "text": [
            "Epoch 1/10\n",
            "36/36 [==============================] - 1187s 33s/step - loss: 11.1642 - accuracy: 0.2642 - val_loss: 11.4369 - val_accuracy: 0.2500\n",
            "Epoch 2/10\n",
            "36/36 [==============================] - 10s 281ms/step - loss: 11.4369 - accuracy: 0.2500 - val_loss: 11.4369 - val_accuracy: 0.2500\n",
            "Epoch 3/10\n",
            "36/36 [==============================] - 8s 212ms/step - loss: 11.4369 - accuracy: 0.2500 - val_loss: 11.4369 - val_accuracy: 0.2500\n",
            "Epoch 4/10\n",
            "36/36 [==============================] - 8s 216ms/step - loss: 11.4369 - accuracy: 0.2500 - val_loss: 11.4369 - val_accuracy: 0.2500\n",
            "Epoch 5/10\n",
            "36/36 [==============================] - 9s 247ms/step - loss: 11.4369 - accuracy: 0.2500 - val_loss: 11.4369 - val_accuracy: 0.2500\n",
            "Epoch 6/10\n",
            "36/36 [==============================] - 8s 212ms/step - loss: 11.4369 - accuracy: 0.2500 - val_loss: 11.4369 - val_accuracy: 0.2500\n",
            "Epoch 7/10\n",
            "36/36 [==============================] - 8s 213ms/step - loss: 11.4369 - accuracy: 0.2500 - val_loss: 11.4369 - val_accuracy: 0.2500\n",
            "Epoch 8/10\n",
            "36/36 [==============================] - 8s 213ms/step - loss: 11.4369 - accuracy: 0.2500 - val_loss: 11.4369 - val_accuracy: 0.2500\n",
            "Epoch 9/10\n",
            "36/36 [==============================] - 8s 215ms/step - loss: 11.4369 - accuracy: 0.2500 - val_loss: 11.4369 - val_accuracy: 0.2500\n",
            "Epoch 10/10\n",
            "36/36 [==============================] - 8s 218ms/step - loss: 11.4369 - accuracy: 0.2500 - val_loss: 11.4369 - val_accuracy: 0.2500\n"
          ]
        },
        {
          "output_type": "execute_result",
          "data": {
            "text/plain": [
              "<keras.callbacks.History at 0x7fc55450f510>"
            ]
          },
          "metadata": {},
          "execution_count": 15
        }
      ],
      "source": [
        "cnn.fit(x = training_set, validation_data = test_set, epochs = 10)"
      ]
    },
    {
      "cell_type": "code",
      "execution_count": null,
      "metadata": {
        "id": "tSEiR5xlYzdX"
      },
      "outputs": [],
      "source": []
    }
  ],
  "metadata": {
    "colab": {
      "provenance": []
    },
    "kernelspec": {
      "display_name": "Python 3",
      "name": "python3"
    },
    "language_info": {
      "name": "python"
    }
  },
  "nbformat": 4,
  "nbformat_minor": 0
}